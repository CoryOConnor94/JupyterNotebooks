{
 "cells": [
  {
   "cell_type": "code",
   "execution_count": 1,
   "id": "db56c667",
   "metadata": {},
   "outputs": [],
   "source": [
    "import requests\n",
    "\n",
    "from bs4 import BeautifulSoup\n",
    "\n",
    "import re\n",
    "\n",
    "import json"
   ]
  },
  {
   "cell_type": "code",
   "execution_count": 2,
   "id": "75f9d533",
   "metadata": {},
   "outputs": [],
   "source": [
    "url = 'https://www.ted.com/talks/malcolm_gladwell_the_unheard_story_of_david_and_goliath'"
   ]
  },
  {
   "cell_type": "code",
   "execution_count": 3,
   "id": "3bb20643",
   "metadata": {},
   "outputs": [
    {
     "name": "stdout",
     "output_type": "stream",
     "text": [
      "Download about to start\n"
     ]
    }
   ],
   "source": [
    "response = requests.get(url)\n",
    "\n",
    "print(\"Download about to start\")"
   ]
  },
  {
   "cell_type": "code",
   "execution_count": 4,
   "id": "465875e8",
   "metadata": {},
   "outputs": [
    {
     "data": {
      "text/plain": [
       "200"
      ]
     },
     "execution_count": 4,
     "metadata": {},
     "output_type": "execute_result"
    }
   ],
   "source": [
    "response.status_code"
   ]
  },
  {
   "cell_type": "code",
   "execution_count": 5,
   "id": "e5cdbcc5",
   "metadata": {},
   "outputs": [],
   "source": [
    "soup = BeautifulSoup(response.content, \"html.parser\")"
   ]
  },
  {
   "cell_type": "code",
   "execution_count": 6,
   "id": "842c2f9d",
   "metadata": {},
   "outputs": [],
   "source": [
    "next_data_script = soup.find(id=\"__NEXT_DATA__\")"
   ]
  },
  {
   "cell_type": "code",
   "execution_count": 7,
   "id": "4a8d28e4",
   "metadata": {},
   "outputs": [],
   "source": [
    "data_json = next_data_script.string"
   ]
  },
  {
   "cell_type": "code",
   "execution_count": 8,
   "id": "6657ff0a",
   "metadata": {},
   "outputs": [],
   "source": [
    "data = json.loads(data_json)['props']['pageProps']['videoData']['playerData']"
   ]
  },
  {
   "cell_type": "code",
   "execution_count": 9,
   "id": "f12c57e3",
   "metadata": {},
   "outputs": [],
   "source": [
    "url_content = json.loads(data)['resources']['h264'][0]['file']"
   ]
  },
  {
   "cell_type": "code",
   "execution_count": 10,
   "id": "6d985eba",
   "metadata": {},
   "outputs": [
    {
     "data": {
      "text/plain": [
       "'https://ted-conferences-consus-production.s3.amazonaws.com/consus/projects/00/15/95/007/products/2013s-malcolm-gladwell-007-fallback-52fe3d6a470d05a1c1202351acdb11b8-1200k.mp4'"
      ]
     },
     "execution_count": 10,
     "metadata": {},
     "output_type": "execute_result"
    }
   ],
   "source": [
    "url_content"
   ]
  },
  {
   "cell_type": "code",
   "execution_count": 11,
   "id": "199a7f3d",
   "metadata": {},
   "outputs": [],
   "source": [
    "mp4_response = requests.get(url_content)"
   ]
  },
  {
   "cell_type": "code",
   "execution_count": 12,
   "id": "5916a014",
   "metadata": {},
   "outputs": [
    {
     "data": {
      "text/plain": [
       "200"
      ]
     },
     "execution_count": 12,
     "metadata": {},
     "output_type": "execute_result"
    }
   ],
   "source": [
    "mp4_response.status_code"
   ]
  },
  {
   "cell_type": "code",
   "execution_count": 13,
   "id": "e5f27d91",
   "metadata": {},
   "outputs": [],
   "source": [
    "file_name = 'ted_talk_video2.mp4'"
   ]
  },
  {
   "cell_type": "code",
   "execution_count": 14,
   "id": "178c2a68",
   "metadata": {},
   "outputs": [],
   "source": [
    "with open(file_name, \"wb\") as f:\n",
    "    f.write(mp4_response.content)"
   ]
  },
  {
   "cell_type": "code",
   "execution_count": null,
   "id": "7bfba49c",
   "metadata": {},
   "outputs": [],
   "source": []
  }
 ],
 "metadata": {
  "kernelspec": {
   "display_name": "Python 3 (ipykernel)",
   "language": "python",
   "name": "python3"
  },
  "language_info": {
   "codemirror_mode": {
    "name": "ipython",
    "version": 3
   },
   "file_extension": ".py",
   "mimetype": "text/x-python",
   "name": "python",
   "nbconvert_exporter": "python",
   "pygments_lexer": "ipython3",
   "version": "3.9.8"
  }
 },
 "nbformat": 4,
 "nbformat_minor": 5
}
