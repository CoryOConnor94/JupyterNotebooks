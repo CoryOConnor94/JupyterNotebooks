{
 "cells": [
  {
   "cell_type": "code",
   "execution_count": 26,
   "id": "a152add8",
   "metadata": {},
   "outputs": [],
   "source": [
    "import pandas as pd "
   ]
  },
  {
   "cell_type": "code",
   "execution_count": 27,
   "id": "7bc1c4b3",
   "metadata": {},
   "outputs": [
    {
     "name": "stdout",
     "output_type": "stream",
     "text": [
      " DELL.csv\t\t\t      PDF_Extractor_env\r\n",
      "'Extracting Table from PDF.ipynb'     SalesBarChart.ipynb\r\n",
      " india_factsheet_economic_n_hdi.pdf   Untitled.ipynb\r\n"
     ]
    }
   ],
   "source": [
    "! ls"
   ]
  },
  {
   "cell_type": "code",
   "execution_count": 28,
   "id": "e2cb4e60",
   "metadata": {},
   "outputs": [
    {
     "data": {
      "text/html": [
       "<div>\n",
       "<style scoped>\n",
       "    .dataframe tbody tr th:only-of-type {\n",
       "        vertical-align: middle;\n",
       "    }\n",
       "\n",
       "    .dataframe tbody tr th {\n",
       "        vertical-align: top;\n",
       "    }\n",
       "\n",
       "    .dataframe thead th {\n",
       "        text-align: right;\n",
       "    }\n",
       "</style>\n",
       "<table border=\"1\" class=\"dataframe\">\n",
       "  <thead>\n",
       "    <tr style=\"text-align: right;\">\n",
       "      <th></th>\n",
       "      <th>Date</th>\n",
       "      <th>Open</th>\n",
       "      <th>High</th>\n",
       "      <th>Low</th>\n",
       "      <th>Close</th>\n",
       "      <th>Adj Close</th>\n",
       "      <th>Volume</th>\n",
       "    </tr>\n",
       "  </thead>\n",
       "  <tbody>\n",
       "    <tr>\n",
       "      <th>0</th>\n",
       "      <td>2021-04-12</td>\n",
       "      <td>47.009628</td>\n",
       "      <td>47.663456</td>\n",
       "      <td>46.908260</td>\n",
       "      <td>47.364422</td>\n",
       "      <td>47.364422</td>\n",
       "      <td>4027090</td>\n",
       "    </tr>\n",
       "    <tr>\n",
       "      <th>1</th>\n",
       "      <td>2021-04-13</td>\n",
       "      <td>47.480991</td>\n",
       "      <td>47.480991</td>\n",
       "      <td>46.822098</td>\n",
       "      <td>46.898125</td>\n",
       "      <td>46.898125</td>\n",
       "      <td>3293332</td>\n",
       "    </tr>\n",
       "    <tr>\n",
       "      <th>2</th>\n",
       "      <td>2021-04-14</td>\n",
       "      <td>46.969082</td>\n",
       "      <td>47.394829</td>\n",
       "      <td>46.908260</td>\n",
       "      <td>46.984287</td>\n",
       "      <td>46.984287</td>\n",
       "      <td>5620682</td>\n",
       "    </tr>\n",
       "    <tr>\n",
       "      <th>3</th>\n",
       "      <td>2021-04-15</td>\n",
       "      <td>49.700962</td>\n",
       "      <td>51.307652</td>\n",
       "      <td>48.317284</td>\n",
       "      <td>50.136848</td>\n",
       "      <td>50.136848</td>\n",
       "      <td>26547702</td>\n",
       "    </tr>\n",
       "    <tr>\n",
       "      <th>4</th>\n",
       "      <td>2021-04-16</td>\n",
       "      <td>50.547390</td>\n",
       "      <td>51.784084</td>\n",
       "      <td>50.288898</td>\n",
       "      <td>51.403954</td>\n",
       "      <td>51.403954</td>\n",
       "      <td>11333504</td>\n",
       "    </tr>\n",
       "    <tr>\n",
       "      <th>...</th>\n",
       "      <td>...</td>\n",
       "      <td>...</td>\n",
       "      <td>...</td>\n",
       "      <td>...</td>\n",
       "      <td>...</td>\n",
       "      <td>...</td>\n",
       "      <td>...</td>\n",
       "    </tr>\n",
       "    <tr>\n",
       "      <th>248</th>\n",
       "      <td>2022-04-04</td>\n",
       "      <td>48.939999</td>\n",
       "      <td>49.840000</td>\n",
       "      <td>48.750000</td>\n",
       "      <td>49.380001</td>\n",
       "      <td>49.380001</td>\n",
       "      <td>3326400</td>\n",
       "    </tr>\n",
       "    <tr>\n",
       "      <th>249</th>\n",
       "      <td>2022-04-05</td>\n",
       "      <td>48.860001</td>\n",
       "      <td>49.590000</td>\n",
       "      <td>48.660000</td>\n",
       "      <td>48.660000</td>\n",
       "      <td>48.660000</td>\n",
       "      <td>3335000</td>\n",
       "    </tr>\n",
       "    <tr>\n",
       "      <th>250</th>\n",
       "      <td>2022-04-06</td>\n",
       "      <td>48.240002</td>\n",
       "      <td>48.439999</td>\n",
       "      <td>46.750000</td>\n",
       "      <td>47.119999</td>\n",
       "      <td>47.119999</td>\n",
       "      <td>6815300</td>\n",
       "    </tr>\n",
       "    <tr>\n",
       "      <th>251</th>\n",
       "      <td>2022-04-07</td>\n",
       "      <td>47.520000</td>\n",
       "      <td>48.709999</td>\n",
       "      <td>46.930000</td>\n",
       "      <td>47.689999</td>\n",
       "      <td>47.689999</td>\n",
       "      <td>6182900</td>\n",
       "    </tr>\n",
       "    <tr>\n",
       "      <th>252</th>\n",
       "      <td>2022-04-08</td>\n",
       "      <td>47.439999</td>\n",
       "      <td>48.099998</td>\n",
       "      <td>47.119999</td>\n",
       "      <td>47.389999</td>\n",
       "      <td>47.389999</td>\n",
       "      <td>3707700</td>\n",
       "    </tr>\n",
       "  </tbody>\n",
       "</table>\n",
       "<p>253 rows × 7 columns</p>\n",
       "</div>"
      ],
      "text/plain": [
       "           Date       Open       High        Low      Close  Adj Close  \\\n",
       "0    2021-04-12  47.009628  47.663456  46.908260  47.364422  47.364422   \n",
       "1    2021-04-13  47.480991  47.480991  46.822098  46.898125  46.898125   \n",
       "2    2021-04-14  46.969082  47.394829  46.908260  46.984287  46.984287   \n",
       "3    2021-04-15  49.700962  51.307652  48.317284  50.136848  50.136848   \n",
       "4    2021-04-16  50.547390  51.784084  50.288898  51.403954  51.403954   \n",
       "..          ...        ...        ...        ...        ...        ...   \n",
       "248  2022-04-04  48.939999  49.840000  48.750000  49.380001  49.380001   \n",
       "249  2022-04-05  48.860001  49.590000  48.660000  48.660000  48.660000   \n",
       "250  2022-04-06  48.240002  48.439999  46.750000  47.119999  47.119999   \n",
       "251  2022-04-07  47.520000  48.709999  46.930000  47.689999  47.689999   \n",
       "252  2022-04-08  47.439999  48.099998  47.119999  47.389999  47.389999   \n",
       "\n",
       "       Volume  \n",
       "0     4027090  \n",
       "1     3293332  \n",
       "2     5620682  \n",
       "3    26547702  \n",
       "4    11333504  \n",
       "..        ...  \n",
       "248   3326400  \n",
       "249   3335000  \n",
       "250   6815300  \n",
       "251   6182900  \n",
       "252   3707700  \n",
       "\n",
       "[253 rows x 7 columns]"
      ]
     },
     "execution_count": 28,
     "metadata": {},
     "output_type": "execute_result"
    }
   ],
   "source": [
    "data = pd.read_csv(\"DELL.csv\")  #READ IN CSV FILE TO PYTHON OBJECT\n",
    "data"
   ]
  },
  {
   "cell_type": "code",
   "execution_count": 29,
   "id": "c65da74d",
   "metadata": {},
   "outputs": [],
   "source": [
    "import seaborn as sns"
   ]
  },
  {
   "cell_type": "code",
   "execution_count": 30,
   "id": "6bb0d40a",
   "metadata": {},
   "outputs": [],
   "source": [
    "data2 = data.loc[1:5]"
   ]
  },
  {
   "cell_type": "code",
   "execution_count": 31,
   "id": "e55b26e3",
   "metadata": {},
   "outputs": [
    {
     "data": {
      "image/png": "[encoded data removed]",
      "text/plain": [
       "<Figure size 432x288 with 1 Axes>"
      ]
     },
     "metadata": {
      "needs_background": "light"
     },
     "output_type": "display_data"
    }
   ],
   "source": [
    "sns.barplot(x = \"Open\", y = \"Volume\", hue =\"Date\", data = data2);"
   ]
  },
  {
   "cell_type": "code",
   "execution_count": null,
   "id": "9a549f65",
   "metadata": {},
   "outputs": [],
   "source": []
  },
  {
   "cell_type": "code",
   "execution_count": null,
   "id": "2b0956e4",
   "metadata": {},
   "outputs": [],
   "source": []
  },
  {
   "cell_type": "code",
   "execution_count": null,
   "id": "680301d2",
   "metadata": {},
   "outputs": [],
   "source": []
  },
  {
   "cell_type": "code",
   "execution_count": null,
   "id": "00ad57ce",
   "metadata": {},
   "outputs": [],
   "source": []
  }
 ],
 "metadata": {
  "kernelspec": {
   "display_name": "Python 3 (ipykernel)",
   "language": "python",
   "name": "python3"
  },
  "language_info": {
   "codemirror_mode": {
    "name": "ipython",
    "version": 3
   },
   "file_extension": ".py",
   "mimetype": "text/x-python",
   "name": "python",
   "nbconvert_exporter": "python",
   "pygments_lexer": "ipython3",
   "version": "3.9.8"
  }
 },
 "nbformat": 4,
 "nbformat_minor": 5
}
